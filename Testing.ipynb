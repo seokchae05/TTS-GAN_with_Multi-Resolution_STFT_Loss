{
 "cells": [
  {
   "cell_type": "code",
   "execution_count": 1,
   "metadata": {},
   "outputs": [],
   "source": [
    "import torch\n",
    "import torch.nn as nn\n",
    "import torch.nn.functional as F\n",
    "import torch.optim as optim\n",
    "from torch.utils.data import DataLoader\n",
    "\n",
    "import matplotlib.pyplot as plt\n",
    "import numpy as np\n",
    "\n",
    "import torchvision\n",
    "import torchvision.transforms as transforms\n",
    "\n",
    "import matplotlib.pyplot as plt\n",
    "\n",
    "import Utils\n",
    "import os"
   ]
  },
  {
   "attachments": {},
   "cell_type": "markdown",
   "metadata": {},
   "source": [
    "# 1. 데이터 로드\n",
    " - 데이터 셋 로드 및 데이터 로더 만들기\n",
    " "
   ]
  },
  {
   "cell_type": "code",
   "execution_count": 2,
   "metadata": {},
   "outputs": [],
   "source": [
    "transform = transforms.Compose([\n",
    "    transforms.ToTensor(),\n",
    "    transforms.Resize(size=[512,512]),\n",
    "    transforms.Normalize(mean=(0.5,), std=(0.5, ))\n",
    "])\n",
    "\n",
    "root_path = os.path.join(os.getcwd(), 'data')\n",
    "dataset = Utils.vibrationData(root_path=root_path, transform=transform)\n",
    "\n",
    "data_loader = torch.utils.data.DataLoader(dataset, batch_size=1, shuffle=True)"
   ]
  },
  {
   "cell_type": "code",
   "execution_count": 3,
   "metadata": {},
   "outputs": [],
   "source": [
    "sample = next(iter(data_loader))"
   ]
  },
  {
   "cell_type": "code",
   "execution_count": 4,
   "metadata": {},
   "outputs": [],
   "source": [
    "signal, wavlet_img, corr_img, cls = sample"
   ]
  },
  {
   "cell_type": "code",
   "execution_count": 7,
   "metadata": {},
   "outputs": [],
   "source": [
    "class Encoder(nn.Module):\n",
    "    \"\"\"\n",
    "    DCGAN ENCODER NETWORK\n",
    "    \"\"\"\n",
    "\n",
    "    def __init__(self, isize, nz, nc, ndf, ngpu, n_extra_layers=0, add_final_conv=True):\n",
    "        \"\"\"_summary_\n",
    "\n",
    "        Args:\n",
    "            isize (int): input image size\n",
    "            nz (int): size of the latent z vector\n",
    "            nc (int): input image channels\n",
    "            ndf (int): _description_\n",
    "            ngpu (int): number of GPUs to use\n",
    "            n_extra_layers (int, optional): number of layers on gen and disc. Defaults to 0.\n",
    "            add_final_conv (bool, optional): _description_. Defaults to True.\n",
    "        \"\"\"\n",
    "        super(Encoder, self).__init__()\n",
    "        self.ngpu = ngpu\n",
    "        assert isize % 16 == 0, \"isize has to be a multiple of 16\"\n",
    "\n",
    "        main = nn.Sequential()\n",
    "        # input is nc x isize x isize\n",
    "        main.add_module('initial-conv-{0}-{1}'.format(nc, ndf),\n",
    "                        nn.Conv2d(nc, ndf, 3, 2, 1, bias=False))\n",
    "        main.add_module('initial-relu-{0}'.format(ndf),\n",
    "                        nn.LeakyReLU(0.2, inplace=True))\n",
    "        csize, cndf = isize / 2, ndf\n",
    "\n",
    "        # Extra layers\n",
    "        for t in range(n_extra_layers):\n",
    "            main.add_module('extra-layers-{0}-{1}-conv'.format(t, cndf),\n",
    "                            nn.Conv2d(cndf, cndf, 3, 1, 1, bias=False))\n",
    "            main.add_module('extra-layers-{0}-{1}-batchnorm'.format(t, cndf),\n",
    "                            nn.BatchNorm2d(cndf))\n",
    "            main.add_module('extra-layers-{0}-{1}-relu'.format(t, cndf),\n",
    "                            nn.LeakyReLU(0.2, inplace=True))\n",
    "\n",
    "        while csize > 4:\n",
    "            in_feat = cndf\n",
    "            out_feat = cndf * 2\n",
    "            main.add_module('pyramid-{0}-{1}-conv'.format(in_feat, out_feat),\n",
    "                            nn.Conv2d(in_feat, out_feat, 3, 2, 1, bias=False))\n",
    "            main.add_module('pyramid-{0}-batchnorm'.format(out_feat),\n",
    "                            nn.BatchNorm2d(out_feat))\n",
    "            main.add_module('pyramid-{0}-relu'.format(out_feat),\n",
    "                            nn.LeakyReLU(0.2, inplace=True))\n",
    "            cndf = cndf * 2\n",
    "            csize = csize / 2\n",
    "\n",
    "        # state size. K x 4 x 4\n",
    "        if add_final_conv:\n",
    "            main.add_module('final-{0}-{1}-conv'.format(cndf, 1),\n",
    "                            nn.Conv2d(cndf, nz, 3, 1, 0, bias=False))\n",
    "\n",
    "        self.main = main\n",
    "\n",
    "    def forward(self, input):\n",
    "        print(input.dim())\n",
    "        if self.ngpu > 1:\n",
    "            output = nn.parallel.data_parallel(self.main, input, range(self.ngpu))\n",
    "        else:\n",
    "            output = self.main(input)\n",
    "\n",
    "        return output\n",
    "    \n",
    "class Decoder(nn.Module):\n",
    "    \"\"\"\n",
    "    DCGAN DECODER NETWORK\n",
    "    \"\"\"\n",
    "    def __init__(self, isize, nz, nc, ngf, ngpu, n_extra_layers=0):\n",
    "        \"\"\"_summary_\n",
    "\n",
    "        Args:\n",
    "            isize (int): input image size\n",
    "            nz (int): size of the latent z vector\n",
    "            nc (int): input image channels\n",
    "            ngf (_type_): _description_\n",
    "            ngpu (int): number of GPUs to use\n",
    "            n_extra_layers (int, optional): number of layers on gen and disc. Defaults to 0.\n",
    "        \"\"\"\n",
    "        super(Decoder, self).__init__()\n",
    "        self.ngpu = ngpu\n",
    "        assert isize % 16 == 0, \"isize has to be a multiple of 16\"\n",
    "        \n",
    "        cngf, tisize = ngf // 2, 4\n",
    "        \n",
    "        while tisize != isize:\n",
    "            cngf = cngf * 2\n",
    "            tisize = tisize * 2\n",
    "\n",
    "        main = nn.Sequential()\n",
    "        # input is Z, going into a convolution\n",
    "        main.add_module('initial-{0}-{1}-convt'.format(nz, cngf),\n",
    "                        nn.ConvTranspose2d(nz, cngf, 4, 1, 0, bias=False))\n",
    "        main.add_module('initial-{0}-batchnorm'.format(cngf),\n",
    "                        nn.BatchNorm2d(cngf))\n",
    "        main.add_module('initial-{0}-relu'.format(cngf),\n",
    "                        nn.ReLU(True))\n",
    "\n",
    "        csize, _ = 4, cngf\n",
    "        while csize < isize // 2:\n",
    "            main.add_module('pyramid-{0}-{1}-convt'.format(cngf, cngf // 2),\n",
    "                            nn.ConvTranspose2d(cngf, cngf // 2, 4, 2, 1, bias=False))\n",
    "            main.add_module('pyramid-{0}-batchnorm'.format(cngf // 2),\n",
    "                            nn.BatchNorm2d(cngf // 2))\n",
    "            main.add_module('pyramid-{0}-relu'.format(cngf // 2),\n",
    "                            nn.ReLU(True))\n",
    "            cngf = cngf // 2\n",
    "            csize = csize * 2\n",
    "\n",
    "        print('start extra')\n",
    "        # Extra layers\n",
    "        for t in range(n_extra_layers):\n",
    "            main.add_module('extra-layers-{0}-{1}-conv'.format(t, cngf),\n",
    "                            nn.Conv2d(cngf, cngf, 3, 1, 1, bias=False))\n",
    "            main.add_module('extra-layers-{0}-{1}-batchnorm'.format(t, cngf),\n",
    "                            nn.BatchNorm2d(cngf))\n",
    "            main.add_module('extra-layers-{0}-{1}-relu'.format(t, cngf),\n",
    "                            nn.ReLU(True))\n",
    "\n",
    "        main.add_module('final-{0}-{1}-convt'.format(cngf, nc),\n",
    "                        nn.ConvTranspose2d(cngf, nc, 4, 2, 1, bias=False))\n",
    "        main.add_module('final-{0}-tanh'.format(nc),\n",
    "                        nn.Tanh())\n",
    "        self.main = main\n",
    "\n",
    "    def forward(self, input):\n",
    "        if self.ngpu > 1:\n",
    "            output = nn.parallel.data_parallel(self.main, input, range(self.ngpu))\n",
    "        else:\n",
    "            output = self.main(input)\n",
    "        return output\n",
    "    "
   ]
  },
  {
   "cell_type": "code",
   "execution_count": 8,
   "metadata": {},
   "outputs": [],
   "source": [
    "encoder = Encoder(isize=512, nz=100, nc=4, ndf=64, ngpu=0)"
   ]
  },
  {
   "cell_type": "code",
   "execution_count": 21,
   "metadata": {},
   "outputs": [],
   "source": [
    "class Generator(nn.Module):\n",
    "    def __init__(self, n_cls, isize, nz, nc, ngf, ngpu, n_extra_layers=0):\n",
    "        super(Generator, self).__init__()\n",
    "        self.n_cls = n_cls\n",
    "        self.pre_z = nn.Sequential(\n",
    "            nn.Linear(50, 3*nz),\n",
    "            nn.LeakyReLU(0.2, inplace=True)\n",
    "        )\n",
    "        self.pre_c = nn.Sequential(\n",
    "            nn.Linear(n_cls, 1*nz),\n",
    "            nn.LeakyReLU(0.2, inplace=True)\n",
    "        )\n",
    "        self.layers = Decoder(isize=isize, nz=nz, nc=nc, ngf=ngf, ngpu=ngpu, n_extra_layers=n_extra_layers)\n",
    "        \n",
    "    def forward(self, z, c):\n",
    "        \n",
    "        batch_size = z.size(0)\n",
    "        \n",
    "        z = self.pre_z(z)\n",
    "        z = z.view([batch_size, -1, 2, 2])\n",
    "        c = self.pre_c(c)\n",
    "        c = c.view([batch_size, -1, 2, 2])\n",
    "        \n",
    "        zc = torch.cat([z,c], dim=1)\n",
    "        print(zc.size())\n",
    "        return self.layers(zc)\n",
    "    "
   ]
  },
  {
   "cell_type": "code",
   "execution_count": 22,
   "metadata": {},
   "outputs": [
    {
     "name": "stdout",
     "output_type": "stream",
     "text": [
      "4\n"
     ]
    }
   ],
   "source": [
    "z = encoder(wavlet_img)"
   ]
  },
  {
   "cell_type": "code",
   "execution_count": 23,
   "metadata": {},
   "outputs": [
    {
     "name": "stdout",
     "output_type": "stream",
     "text": [
      "start extra\n"
     ]
    }
   ],
   "source": [
    "generator = Generator(n_cls =2, isize=512, nz=100, nc=4, ngf=64, ngpu=0)"
   ]
  },
  {
   "cell_type": "code",
   "execution_count": 25,
   "metadata": {},
   "outputs": [
    {
     "name": "stdout",
     "output_type": "stream",
     "text": [
      "z.size : torch.Size([1, 50])\n",
      "c.size : torch.Size([1, 2])\n",
      "after pre\n",
      "z.size : torch.Size([1, 75, 2, 2])\n",
      "c.size : torch.Size([1, 25, 2, 2])\n",
      "torch.Size([1, 100, 2, 2])\n"
     ]
    }
   ],
   "source": [
    "\n",
    "rand_z = 2 * torch.rand(wavlet_img.size(0), 50) - 1\n",
    "\n",
    "x = generator(rand_z, cls)"
   ]
  },
  {
   "cell_type": "code",
   "execution_count": 26,
   "metadata": {},
   "outputs": [
    {
     "data": {
      "text/plain": [
       "torch.Size([1, 4, 640, 640])"
      ]
     },
     "execution_count": 26,
     "metadata": {},
     "output_type": "execute_result"
    }
   ],
   "source": [
    "x.size()"
   ]
  },
  {
   "cell_type": "code",
   "execution_count": null,
   "metadata": {},
   "outputs": [],
   "source": []
  }
 ],
 "metadata": {
  "kernelspec": {
   "display_name": "Vibration",
   "language": "python",
   "name": "python3"
  },
  "language_info": {
   "codemirror_mode": {
    "name": "ipython",
    "version": 3
   },
   "file_extension": ".py",
   "mimetype": "text/x-python",
   "name": "python",
   "nbconvert_exporter": "python",
   "pygments_lexer": "ipython3",
   "version": "3.9.15"
  },
  "orig_nbformat": 4,
  "vscode": {
   "interpreter": {
    "hash": "c7d95161f7bedbfa09496c29856a74c524c6bfebe9bd569c5b5b43dec9adf50b"
   }
  }
 },
 "nbformat": 4,
 "nbformat_minor": 2
}
