{
 "cells": [
  {
   "cell_type": "code",
   "execution_count": null,
   "metadata": {},
   "outputs": [],
   "source": [
    "from torch.utils import data\n",
    "from Utils import vibrationData\n",
    "import os"
   ]
  },
  {
   "cell_type": "code",
   "execution_count": null,
   "metadata": {},
   "outputs": [],
   "source": [
    "cls_0 = vibrationData(root_path=os.path.join(os.getcwd(), 'data'), cls_name='0')\n",
    "cls_7 = vibrationData(root_path=os.path.join(os.getcwd(), 'data'), cls_name='7')"
   ]
  },
  {
   "cell_type": "code",
   "execution_count": null,
   "metadata": {},
   "outputs": [],
   "source": [
    "import numpy as np\n",
    "real_0 = []\n",
    "real_7 = []\n",
    "\n",
    "for real_sig, _ in cls_0:\n",
    "    real_sig = real_sig.cpu().detach().numpy()\n",
    "    sig = real_sig.reshape(real_sig.shape[0], real_sig.shape[2])\n",
    "    real_0.append(sig)\n",
    "    \n",
    "for real_sig, _ in cls_7:\n",
    "    real_sig = real_sig.cpu().detach().numpy()\n",
    "    sig = real_sig.reshape(real_sig.shape[0], real_sig.shape[2])\n",
    "    real_7.append(sig)\n",
    "\n",
    "real_0 = np.array(real_0)\n",
    "real_7 = np.array(real_7)"
   ]
  },
  {
   "cell_type": "code",
   "execution_count": null,
   "metadata": {},
   "outputs": [],
   "source": [
    "import matplotlib.pyplot as plt\n",
    "fig, axs = plt.subplots(1, 10, figsize=(35,5))\n",
    "fig.suptitle('Real_Running', fontsize=30)\n",
    "for i in range(10):\n",
    "    axs[i].plot(real_0[i][0][:])\n",
    "    axs[i].plot(real_0[i][1][:])"
   ]
  },
  {
   "cell_type": "code",
   "execution_count": null,
   "metadata": {},
   "outputs": [],
   "source": [
    "from Load_Vibration import *\n",
    "from torch.utils import data\n",
    "\n",
    "syn_data = Syn_Vibration_Dataset()\n",
    "syn_data_loader = data.DataLoader(syn_data, batch_size=1, num_workers=1, shuffle=True)\n",
    "syn_0 = []\n",
    "syn_7 = []\n",
    "\n",
    "for i, (syn_sig, label) in enumerate(syn_data_loader):\n",
    "    syn_sig = syn_sig.cpu().detach().numpy()\n",
    "    sig = syn_sig.reshape(syn_sig.shape[1], syn_sig.shape[3])\n",
    "    if label[0] == 0:\n",
    "        syn_0.append(sig)\n",
    "    elif label[0] == 1:\n",
    "        syn_7.append(sig)"
   ]
  },
  {
   "cell_type": "code",
   "execution_count": null,
   "metadata": {},
   "outputs": [],
   "source": [
    "real_0 = np.transpose(real_0, (0, 2, 1))\n",
    "real_7 = np.transpose(real_7, (0, 2, 1))\n",
    "syn_0 = np.transpose(syn_0, (0, 2, 1))\n",
    "syn_7 = np.transpose(syn_7, (0, 2, 1))"
   ]
  },
  {
   "cell_type": "code",
   "execution_count": null,
   "metadata": {},
   "outputs": [],
   "source": [
    "from visualizationMetrics import visualization"
   ]
  },
  {
   "cell_type": "code",
   "execution_count": null,
   "metadata": {},
   "outputs": [],
   "source": [
    "visualization(real_0, syn_0, 'pca', 'cls0-pca')"
   ]
  },
  {
   "cell_type": "code",
   "execution_count": null,
   "metadata": {},
   "outputs": [],
   "source": [
    "visualization(real_7, syn_7, 'pca', 'cls7-pca')"
   ]
  },
  {
   "cell_type": "code",
   "execution_count": null,
   "metadata": {},
   "outputs": [],
   "source": [
    "visualization(real_0, syn_0, 'tsne', 'cls0-tsne')"
   ]
  },
  {
   "cell_type": "code",
   "execution_count": null,
   "metadata": {},
   "outputs": [],
   "source": [
    "visualization(real_7, syn_7, 'tsne', 'cls0-tsne')"
   ]
  },
  {
   "cell_type": "code",
   "execution_count": null,
   "metadata": {},
   "outputs": [],
   "source": [
    "visualization(real_0, syn_7, 'tsne', 'Real-0_Syn_7-tsne')"
   ]
  },
  {
   "cell_type": "code",
   "execution_count": null,
   "metadata": {},
   "outputs": [],
   "source": [
    "visualization(real_7, syn_0, 'tsne', 'Real-7_Syn_0-tsne')"
   ]
  }
 ],
 "metadata": {
  "kernelspec": {
   "display_name": "TimeGAN",
   "language": "python",
   "name": "python3"
  },
  "language_info": {
   "codemirror_mode": {
    "name": "ipython",
    "version": 3
   },
   "file_extension": ".py",
   "mimetype": "text/x-python",
   "name": "python",
   "nbconvert_exporter": "python",
   "pygments_lexer": "ipython3",
   "version": "3.9.0"
  },
  "orig_nbformat": 4,
  "vscode": {
   "interpreter": {
    "hash": "6f99e7e626bc7eaf98799ad97832fb1878ffb2858e7dcbd202e05211d686689f"
   }
  }
 },
 "nbformat": 4,
 "nbformat_minor": 2
}
